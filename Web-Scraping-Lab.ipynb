{
 "cells": [
  {
   "cell_type": "markdown",
   "metadata": {},
   "source": [
    "<p style=\"text-align:center\">\n",
    "    <a href=\"https://skills.network/?utm_medium=Exinfluencer&utm_source=Exinfluencer&utm_content=000026UJ&utm_term=10006555&utm_id=NA-SkillsNetwork-Channel-SkillsNetworkCoursesIBMDA0321ENSkillsNetwork928-2022-01-01\" target=\"_blank\">\n",
    "    <img src=\"https://cf-courses-data.s3.us.cloud-object-storage.appdomain.cloud/assets/logos/SN_web_lightmode.png\" width=\"200\" alt=\"Skills Network Logo\"  />\n",
    "    </a>\n",
    "</p>\n"
   ]
  },
  {
   "cell_type": "markdown",
   "metadata": {},
   "source": [
    "# **Hands-on Lab : Web Scraping**\n"
   ]
  },
  {
   "cell_type": "markdown",
   "metadata": {},
   "source": [
    "Estimated time needed: **30 to 45** minutes\n"
   ]
  },
  {
   "cell_type": "markdown",
   "metadata": {},
   "source": [
    "## Objectives\n"
   ]
  },
  {
   "cell_type": "markdown",
   "metadata": {},
   "source": [
    "In this lab you will perform the following:\n"
   ]
  },
  {
   "cell_type": "markdown",
   "metadata": {},
   "source": [
    "* Extract information from a given web site \n",
    "* Write the scraped data into a csv file.\n"
   ]
  },
  {
   "cell_type": "markdown",
   "metadata": {},
   "source": [
    "## Extract information from the given web site\n",
    "You will extract the data from the below web site: <br> \n"
   ]
  },
  {
   "cell_type": "code",
   "execution_count": 1,
   "metadata": {},
   "outputs": [],
   "source": [
    "#this url contains the data you need to scrape\n",
    "url = \"https://cf-courses-data.s3.us.cloud-object-storage.appdomain.cloud/IBM-DA0321EN-SkillsNetwork/labs/datasets/Programming_Languages.html\""
   ]
  },
  {
   "cell_type": "markdown",
   "metadata": {},
   "source": [
    "The data you need to scrape is the **name of the programming language** and **average annual salary**.<br> It is a good idea to open the url in your web broswer and study the contents of the web page before you start to scrape.\n"
   ]
  },
  {
   "cell_type": "markdown",
   "metadata": {},
   "source": [
    "Import the required libraries\n"
   ]
  },
  {
   "cell_type": "code",
   "execution_count": 17,
   "metadata": {},
   "outputs": [
    {
     "name": "stdout",
     "output_type": "stream",
     "text": [
      "Collecting bs4\n",
      "  Downloading bs4-0.0.1.tar.gz (1.1 kB)\n",
      "Requirement already satisfied: beautifulsoup4 in /Users/shaakirah/opt/anaconda3/lib/python3.9/site-packages (from bs4) (4.11.1)\n",
      "Requirement already satisfied: soupsieve>1.2 in /Users/shaakirah/opt/anaconda3/lib/python3.9/site-packages (from beautifulsoup4->bs4) (2.3.1)\n",
      "Building wheels for collected packages: bs4\n",
      "  Building wheel for bs4 (setup.py) ... \u001b[?25ldone\n",
      "\u001b[?25h  Created wheel for bs4: filename=bs4-0.0.1-py3-none-any.whl size=1272 sha256=a179e06b78b2a0d266837cf7fbc4695bd1c445ee611e41e0e00781fd2bf12857\n",
      "  Stored in directory: /Users/shaakirah/Library/Caches/pip/wheels/73/2b/cb/099980278a0c9a3e57ff1a89875ec07bfa0b6fcbebb9a8cad3\n",
      "Successfully built bs4\n",
      "Installing collected packages: bs4\n",
      "Successfully installed bs4-0.0.1\n"
     ]
    }
   ],
   "source": [
    "# Your code here\n",
    "!pip install bs4\n",
    "from bs4 import BeautifulSoup \n",
    "import requests \n",
    "import pandas as pd"
   ]
  },
  {
   "cell_type": "markdown",
   "metadata": {},
   "source": [
    "Download the webpage at the url\n"
   ]
  },
  {
   "cell_type": "code",
   "execution_count": 32,
   "metadata": {},
   "outputs": [],
   "source": [
    "#your code goes here\n",
    "html_data  = requests.get(url).text "
   ]
  },
  {
   "cell_type": "markdown",
   "metadata": {},
   "source": [
    "Create a soup object\n"
   ]
  },
  {
   "cell_type": "code",
   "execution_count": 33,
   "metadata": {},
   "outputs": [],
   "source": [
    "#your code goes here\n",
    "soup = BeautifulSoup(html_data, \"html.parser\")"
   ]
  },
  {
   "cell_type": "markdown",
   "metadata": {},
   "source": [
    "Scrape the `Language name` and `annual average salary`.\n"
   ]
  },
  {
   "cell_type": "code",
   "execution_count": 57,
   "metadata": {},
   "outputs": [
    {
     "name": "stdout",
     "output_type": "stream",
     "text": [
      "   Language name Annual average salary Language Name\n",
      "1            NaN              $114,383        Python\n",
      "2            NaN              $101,013          Java\n",
      "3            NaN               $92,037             R\n",
      "4            NaN              $110,981    Javascript\n",
      "5            NaN              $130,801         Swift\n",
      "6            NaN              $113,865           C++\n",
      "7            NaN               $88,726            C#\n",
      "8            NaN               $84,727           PHP\n",
      "9            NaN               $84,793           SQL\n",
      "10           NaN               $94,082            Go\n"
     ]
    },
    {
     "name": "stderr",
     "output_type": "stream",
     "text": [
      "/var/folders/pc/tr7bq2vn3b513wjyh4v3n7xc0000gn/T/ipykernel_5477/794871217.py:12: FutureWarning: The frame.append method is deprecated and will be removed from pandas in a future version. Use pandas.concat instead.\n",
      "  lng_sal = lng_sal.append({\"Language Name\" : lname, \"Annual average salary\" : anavsal}, ignore_index= True)\n",
      "/var/folders/pc/tr7bq2vn3b513wjyh4v3n7xc0000gn/T/ipykernel_5477/794871217.py:12: FutureWarning: The frame.append method is deprecated and will be removed from pandas in a future version. Use pandas.concat instead.\n",
      "  lng_sal = lng_sal.append({\"Language Name\" : lname, \"Annual average salary\" : anavsal}, ignore_index= True)\n",
      "/var/folders/pc/tr7bq2vn3b513wjyh4v3n7xc0000gn/T/ipykernel_5477/794871217.py:12: FutureWarning: The frame.append method is deprecated and will be removed from pandas in a future version. Use pandas.concat instead.\n",
      "  lng_sal = lng_sal.append({\"Language Name\" : lname, \"Annual average salary\" : anavsal}, ignore_index= True)\n",
      "/var/folders/pc/tr7bq2vn3b513wjyh4v3n7xc0000gn/T/ipykernel_5477/794871217.py:12: FutureWarning: The frame.append method is deprecated and will be removed from pandas in a future version. Use pandas.concat instead.\n",
      "  lng_sal = lng_sal.append({\"Language Name\" : lname, \"Annual average salary\" : anavsal}, ignore_index= True)\n",
      "/var/folders/pc/tr7bq2vn3b513wjyh4v3n7xc0000gn/T/ipykernel_5477/794871217.py:12: FutureWarning: The frame.append method is deprecated and will be removed from pandas in a future version. Use pandas.concat instead.\n",
      "  lng_sal = lng_sal.append({\"Language Name\" : lname, \"Annual average salary\" : anavsal}, ignore_index= True)\n",
      "/var/folders/pc/tr7bq2vn3b513wjyh4v3n7xc0000gn/T/ipykernel_5477/794871217.py:12: FutureWarning: The frame.append method is deprecated and will be removed from pandas in a future version. Use pandas.concat instead.\n",
      "  lng_sal = lng_sal.append({\"Language Name\" : lname, \"Annual average salary\" : anavsal}, ignore_index= True)\n",
      "/var/folders/pc/tr7bq2vn3b513wjyh4v3n7xc0000gn/T/ipykernel_5477/794871217.py:12: FutureWarning: The frame.append method is deprecated and will be removed from pandas in a future version. Use pandas.concat instead.\n",
      "  lng_sal = lng_sal.append({\"Language Name\" : lname, \"Annual average salary\" : anavsal}, ignore_index= True)\n",
      "/var/folders/pc/tr7bq2vn3b513wjyh4v3n7xc0000gn/T/ipykernel_5477/794871217.py:12: FutureWarning: The frame.append method is deprecated and will be removed from pandas in a future version. Use pandas.concat instead.\n",
      "  lng_sal = lng_sal.append({\"Language Name\" : lname, \"Annual average salary\" : anavsal}, ignore_index= True)\n",
      "/var/folders/pc/tr7bq2vn3b513wjyh4v3n7xc0000gn/T/ipykernel_5477/794871217.py:12: FutureWarning: The frame.append method is deprecated and will be removed from pandas in a future version. Use pandas.concat instead.\n",
      "  lng_sal = lng_sal.append({\"Language Name\" : lname, \"Annual average salary\" : anavsal}, ignore_index= True)\n",
      "/var/folders/pc/tr7bq2vn3b513wjyh4v3n7xc0000gn/T/ipykernel_5477/794871217.py:12: FutureWarning: The frame.append method is deprecated and will be removed from pandas in a future version. Use pandas.concat instead.\n",
      "  lng_sal = lng_sal.append({\"Language Name\" : lname, \"Annual average salary\" : anavsal}, ignore_index= True)\n",
      "/var/folders/pc/tr7bq2vn3b513wjyh4v3n7xc0000gn/T/ipykernel_5477/794871217.py:12: FutureWarning: The frame.append method is deprecated and will be removed from pandas in a future version. Use pandas.concat instead.\n",
      "  lng_sal = lng_sal.append({\"Language Name\" : lname, \"Annual average salary\" : anavsal}, ignore_index= True)\n"
     ]
    }
   ],
   "source": [
    "#your code goes here\n",
    "table = soup.find(\"table\")\n",
    "\n",
    "lng_sal = pd.DataFrame(columns=[\"Language name\", \"Annual average salary\"])\n",
    "\n",
    "\n",
    "for row in soup.find(\"tbody\").find_all(\"tr\"):\n",
    "    col=row.find_all(\"td\")\n",
    "    lname = col[1].text\n",
    "    anavsal=col[3].text\n",
    "    \n",
    "    lng_sal = lng_sal.append({\"Language Name\" : lname, \"Annual average salary\" : anavsal}, ignore_index= True)\n",
    "\n",
    "lng_sal.drop(index=lng_sal.index[0], axis=0, inplace=True)\n",
    "\n",
    "print(lng_sal)"
   ]
  },
  {
   "cell_type": "markdown",
   "metadata": {},
   "source": [
    "Save the scrapped data into a file named *popular-languages.csv*\n"
   ]
  },
  {
   "cell_type": "code",
   "execution_count": 58,
   "metadata": {},
   "outputs": [],
   "source": [
    "# your code goes here\n",
    "lng_sal.to_csv(\"popular-languages.csv\")"
   ]
  },
  {
   "cell_type": "markdown",
   "metadata": {},
   "source": [
    "## Authors\n"
   ]
  },
  {
   "cell_type": "markdown",
   "metadata": {},
   "source": [
    "Ramesh Sannareddy\n"
   ]
  },
  {
   "cell_type": "markdown",
   "metadata": {},
   "source": [
    "### Other Contributors\n"
   ]
  },
  {
   "cell_type": "markdown",
   "metadata": {},
   "source": [
    "Rav Ahuja\n"
   ]
  },
  {
   "cell_type": "markdown",
   "metadata": {},
   "source": [
    "## Change Log\n"
   ]
  },
  {
   "cell_type": "markdown",
   "metadata": {},
   "source": [
    "|  Date (YYYY-MM-DD) |  Version | Changed By  |  Change Description |\n",
    "|---|---|---|---|\n",
    "| 2020-10-17  | 0.1  | Ramesh Sannareddy  |  Created initial version of the lab |\n"
   ]
  },
  {
   "cell_type": "markdown",
   "metadata": {},
   "source": [
    " Copyright &copy; 2020 IBM Corporation. This notebook and its source code are released under the terms of the [MIT License](https://cognitiveclass.ai/mit-license/?utm_medium=Exinfluencer&utm_source=Exinfluencer&utm_content=000026UJ&utm_term=10006555&utm_id=NA-SkillsNetwork-Channel-SkillsNetworkCoursesIBMDA0321ENSkillsNetwork928-2022-01-01).\n"
   ]
  }
 ],
 "metadata": {
  "kernelspec": {
   "display_name": "Python 3 (ipykernel)",
   "language": "python",
   "name": "python3"
  },
  "language_info": {
   "codemirror_mode": {
    "name": "ipython",
    "version": 3
   },
   "file_extension": ".py",
   "mimetype": "text/x-python",
   "name": "python",
   "nbconvert_exporter": "python",
   "pygments_lexer": "ipython3",
   "version": "3.9.12"
  }
 },
 "nbformat": 4,
 "nbformat_minor": 4
}
